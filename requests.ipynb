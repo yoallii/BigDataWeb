{
 "cells": [
  {
   "cell_type": "code",
   "execution_count": 3,
   "metadata": {},
   "outputs": [],
   "source": [
    "from selenium import webdriver\n",
    "from selenium.webdriver.common.by import By\n",
    "import numpy as np\n",
    "import time"
   ]
  },
  {
   "cell_type": "code",
   "execution_count": 4,
   "metadata": {},
   "outputs": [
    {
     "name": "stderr",
     "output_type": "stream",
     "text": [
      "C:\\Users\\David Arcos\\AppData\\Local\\Temp\\ipykernel_37916\\2265771512.py:3: DeprecationWarning: executable_path has been deprecated, please pass in a Service object\n",
      "  driver = webdriver.Firefox(executable_path=r'C:\\Users\\David Arcos\\Documents\\geckodriver-v0.29.1-win64\\geckodriver.exe')\n"
     ]
    },
    {
     "name": "stdout",
     "output_type": "stream",
     "text": [
      "1 1.2735872145910911\n",
      "2 1.0292000491080595\n",
      "3 2.2270554101847218\n",
      "4 2.626068653486069\n",
      "5 2.518930982762904\n",
      "6 2.7459923711953156\n",
      "7 1.9889939988145655\n",
      "8 1.5927673662105974\n",
      "9 2.7081036356107573\n",
      "10 1.818365707346084\n",
      "11 1.7550833912388248\n",
      "12 1.8932477624463127\n",
      "13 2.4896259989185023\n",
      "14 1.110427321112155\n",
      "15 1.0948868660904898\n",
      "16 1.837505154356158\n",
      "17 2.9893035744943868\n",
      "18 1.5355958967834382\n",
      "19 1.8600180143426013\n",
      "20 2.806949720280185\n",
      "21 1.1308476762494757\n",
      "22 2.021793161303642\n",
      "23 1.1485815282678287\n",
      "24 2.6873581531873914\n",
      "25 1.5856855127977034\n",
      "26 1.7136380362114032\n",
      "27 1.9886227077932872\n",
      "28 1.484312943036733\n",
      "29 1.1587657149906334\n",
      "30 2.1730200268987527\n",
      "31 1.300762110990189\n",
      "32 2.7341286528443387\n",
      "33 1.3440804314051298\n",
      "34 1.1179280489628873\n",
      "35 2.7874116365863033\n",
      "36 1.3178647468220281\n",
      "37 1.0202078522827454\n",
      "38 1.3882147253357118\n",
      "39 2.047243861887741\n",
      "40 2.791285478559591\n",
      "41 2.52479121386938\n",
      "42 2.1743961611459945\n",
      "43 1.5231117297964512\n",
      "44 2.261578890315599\n",
      "45 1.4891497803555032\n",
      "46 2.1750404873025015\n",
      "47 2.371263959633109\n",
      "48 2.4671466201337626\n",
      "49 1.6647625726645066\n",
      "50 1.2786033567660329\n",
      "51 1.3660703499851743\n",
      "52 2.105005398736557\n",
      "53 1.801406169028828\n",
      "54 2.0578211857345208\n",
      "55 2.1794615245859146\n",
      "56 1.858507829603145\n",
      "57 1.7807182754894029\n",
      "58 2.5935953252858304\n",
      "59 1.948524881836647\n",
      "60 1.0163499775997902\n",
      "61 2.2649056547186204\n",
      "62 2.429899842476472\n",
      "63 2.3759032717200093\n",
      "64 2.461451461970819\n",
      "65 1.823453464982783\n"
     ]
    },
    {
     "ename": "WebDriverException",
     "evalue": "Message: Failed to decode response from marionette\n",
     "output_type": "error",
     "traceback": [
      "\u001b[1;31m---------------------------------------------------------------------------\u001b[0m",
      "\u001b[1;31mWebDriverException\u001b[0m                        Traceback (most recent call last)",
      "\u001b[1;32mc:\\Users\\David Arcos\\Documents\\GitHub\\BigDataWeb\\requests.ipynb Cell 2\u001b[0m in \u001b[0;36m<cell line: 13>\u001b[1;34m()\u001b[0m\n\u001b[0;32m     <a href='vscode-notebook-cell:/c%3A/Users/David%20Arcos/Documents/GitHub/BigDataWeb/requests.ipynb#W1sZmlsZQ%3D%3D?line=11'>12</a>\u001b[0m BTN \u001b[39m=\u001b[39m\u001b[39m\"\u001b[39m\u001b[39mcoquita-button\u001b[39m\u001b[39m\"\u001b[39m\n\u001b[0;32m     <a href='vscode-notebook-cell:/c%3A/Users/David%20Arcos/Documents/GitHub/BigDataWeb/requests.ipynb#W1sZmlsZQ%3D%3D?line=12'>13</a>\u001b[0m \u001b[39mfor\u001b[39;00m i \u001b[39min\u001b[39;00m \u001b[39mrange\u001b[39m(\u001b[39m1\u001b[39m, \u001b[39m1000\u001b[39m):\n\u001b[1;32m---> <a href='vscode-notebook-cell:/c%3A/Users/David%20Arcos/Documents/GitHub/BigDataWeb/requests.ipynb#W1sZmlsZQ%3D%3D?line=13'>14</a>\u001b[0m     button \u001b[39m=\u001b[39m driver\u001b[39m.\u001b[39;49mfind_element(By\u001b[39m.\u001b[39;49mID,BTN)\n\u001b[0;32m     <a href='vscode-notebook-cell:/c%3A/Users/David%20Arcos/Documents/GitHub/BigDataWeb/requests.ipynb#W1sZmlsZQ%3D%3D?line=14'>15</a>\u001b[0m     button\u001b[39m.\u001b[39mclick()\n\u001b[0;32m     <a href='vscode-notebook-cell:/c%3A/Users/David%20Arcos/Documents/GitHub/BigDataWeb/requests.ipynb#W1sZmlsZQ%3D%3D?line=15'>16</a>\u001b[0m     x \u001b[39m=\u001b[39m np\u001b[39m.\u001b[39mrandom\u001b[39m.\u001b[39muniform(\u001b[39m1\u001b[39m, \u001b[39m3\u001b[39m)\n",
      "File \u001b[1;32mc:\\Users\\David Arcos\\AppData\\Local\\Programs\\Python\\Python39\\lib\\site-packages\\selenium\\webdriver\\remote\\webdriver.py:831\u001b[0m, in \u001b[0;36mWebDriver.find_element\u001b[1;34m(self, by, value)\u001b[0m\n\u001b[0;32m    828\u001b[0m     by \u001b[39m=\u001b[39m By\u001b[39m.\u001b[39mCSS_SELECTOR\n\u001b[0;32m    829\u001b[0m     value \u001b[39m=\u001b[39m \u001b[39mf\u001b[39m\u001b[39m'\u001b[39m\u001b[39m[name=\u001b[39m\u001b[39m\"\u001b[39m\u001b[39m{\u001b[39;00mvalue\u001b[39m}\u001b[39;00m\u001b[39m\"\u001b[39m\u001b[39m]\u001b[39m\u001b[39m'\u001b[39m\n\u001b[1;32m--> 831\u001b[0m \u001b[39mreturn\u001b[39;00m \u001b[39mself\u001b[39;49m\u001b[39m.\u001b[39;49mexecute(Command\u001b[39m.\u001b[39;49mFIND_ELEMENT, {\u001b[39m\"\u001b[39;49m\u001b[39musing\u001b[39;49m\u001b[39m\"\u001b[39;49m: by, \u001b[39m\"\u001b[39;49m\u001b[39mvalue\u001b[39;49m\u001b[39m\"\u001b[39;49m: value})[\u001b[39m\"\u001b[39m\u001b[39mvalue\u001b[39m\u001b[39m\"\u001b[39m]\n",
      "File \u001b[1;32mc:\\Users\\David Arcos\\AppData\\Local\\Programs\\Python\\Python39\\lib\\site-packages\\selenium\\webdriver\\remote\\webdriver.py:440\u001b[0m, in \u001b[0;36mWebDriver.execute\u001b[1;34m(self, driver_command, params)\u001b[0m\n\u001b[0;32m    438\u001b[0m response \u001b[39m=\u001b[39m \u001b[39mself\u001b[39m\u001b[39m.\u001b[39mcommand_executor\u001b[39m.\u001b[39mexecute(driver_command, params)\n\u001b[0;32m    439\u001b[0m \u001b[39mif\u001b[39;00m response:\n\u001b[1;32m--> 440\u001b[0m     \u001b[39mself\u001b[39;49m\u001b[39m.\u001b[39;49merror_handler\u001b[39m.\u001b[39;49mcheck_response(response)\n\u001b[0;32m    441\u001b[0m     response[\u001b[39m\"\u001b[39m\u001b[39mvalue\u001b[39m\u001b[39m\"\u001b[39m] \u001b[39m=\u001b[39m \u001b[39mself\u001b[39m\u001b[39m.\u001b[39m_unwrap_value(response\u001b[39m.\u001b[39mget(\u001b[39m\"\u001b[39m\u001b[39mvalue\u001b[39m\u001b[39m\"\u001b[39m, \u001b[39mNone\u001b[39;00m))\n\u001b[0;32m    442\u001b[0m     \u001b[39mreturn\u001b[39;00m response\n",
      "File \u001b[1;32mc:\\Users\\David Arcos\\AppData\\Local\\Programs\\Python\\Python39\\lib\\site-packages\\selenium\\webdriver\\remote\\errorhandler.py:245\u001b[0m, in \u001b[0;36mErrorHandler.check_response\u001b[1;34m(self, response)\u001b[0m\n\u001b[0;32m    243\u001b[0m         alert_text \u001b[39m=\u001b[39m value[\u001b[39m\"\u001b[39m\u001b[39malert\u001b[39m\u001b[39m\"\u001b[39m]\u001b[39m.\u001b[39mget(\u001b[39m\"\u001b[39m\u001b[39mtext\u001b[39m\u001b[39m\"\u001b[39m)\n\u001b[0;32m    244\u001b[0m     \u001b[39mraise\u001b[39;00m exception_class(message, screen, stacktrace, alert_text)  \u001b[39m# type: ignore[call-arg]  # mypy is not smart enough here\u001b[39;00m\n\u001b[1;32m--> 245\u001b[0m \u001b[39mraise\u001b[39;00m exception_class(message, screen, stacktrace)\n",
      "\u001b[1;31mWebDriverException\u001b[0m: Message: Failed to decode response from marionette\n"
     ]
    }
   ],
   "source": [
    "# C:\\Users\\David Arcos\\Documents\\operadriver_win64\n",
    "\n",
    "driver = webdriver.Firefox(executable_path=r'C:\\Users\\David Arcos\\Documents\\geckodriver-v0.29.1-win64\\geckodriver.exe')\n",
    "\n",
    "driver.get(\"http://20.75.49.29/index.html\")\n",
    "driver.maximize_window()\n",
    "\n",
    "time.sleep(2)\n",
    "driver.execute_script(f\"document.getElementById('author-section').scrollIntoView();\")\n",
    "time.sleep(2)\n",
    "\n",
    "BTN =\"coquita-button\"\n",
    "for i in range(1, 1000):\n",
    "    button = driver.find_element(By.ID,BTN)\n",
    "    button.click()\n",
    "    x = np.random.uniform(1, 3)\n",
    "    time.sleep(x)\n",
    "    print(i, x)"
   ]
  }
 ],
 "metadata": {
  "kernelspec": {
   "display_name": "Python 3",
   "language": "python",
   "name": "python3"
  },
  "language_info": {
   "codemirror_mode": {
    "name": "ipython",
    "version": 3
   },
   "file_extension": ".py",
   "mimetype": "text/x-python",
   "name": "python",
   "nbconvert_exporter": "python",
   "pygments_lexer": "ipython3",
   "version": "3.9.13"
  },
  "orig_nbformat": 4
 },
 "nbformat": 4,
 "nbformat_minor": 2
}
